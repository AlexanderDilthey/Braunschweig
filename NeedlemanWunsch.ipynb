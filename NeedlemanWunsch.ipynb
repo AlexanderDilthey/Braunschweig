{
 "cells": [
  {
   "cell_type": "code",
   "execution_count": null,
   "metadata": {},
   "outputs": [],
   "source": [
    "from numpy import zeros\n",
    "\n",
    "def globalAlignment(x, y):\n",
    "    \"\"\" DP for Needleman-Wunsch \"\"\"\n",
    "    \n",
    "    score_match = 1\n",
    "    score_mismatch = -1\n",
    "    score_gap = -2\n",
    "    \n",
    "    D = zeros((len(x)+1, len(y)+1), dtype=int)\n",
    "    for j in range(1, len(y)+1):\n",
    "        D[0, j] = D[0, j-1] + score_gap\n",
    "    for i in range(1, len(x)+1):\n",
    "        D[i, 0] = D[i-1, 0] + score_gap\n",
    "    for i in range(1, len(x)+1):\n",
    "        for j in range(1, len(y)+1):\n",
    "            D[i, j] = max(D[i-1, j-1] + (score_match if (x[i-1] == y[j-1]) else score_mismatch), # match/mismatch diagonal\n",
    "                          D[i-1, j  ] + score_gap,    # gap vertical\n",
    "                          D[i  , j-1] + score_gap) # gap horizontal\n",
    "    \n",
    "    i, j  = len(x), len(y)\n",
    "    alx, aly  = [], []\n",
    "    while (i > 0 or j > 0):\n",
    "        move_diag, move_vert, move_horz = 0, 0, 0\n",
    "        if i > 0 and j > 0:\n",
    "            move_diag = D[i-1, j-1] + (score_match if (x[i-1] == y[j-1]) else score_mismatch)\n",
    "        if i > 0:\n",
    "            move_vert = D[i-1, j] + score_gap\n",
    "        if j > 0:\n",
    "            move_horz = D[i, j-1] + score_gap\n",
    "        if move_diag >= move_vert and move_diag >= move_horz:\n",
    "            alx.append(x[i-1])\n",
    "            aly.append(y[j-1])\n",
    "            i -= 1; j -= 1\n",
    "        elif move_vert >= move_horz:\n",
    "            aly.append('-')\n",
    "            alx.append(x[i-1])\n",
    "            i -= 1\n",
    "        else:\n",
    "            alx.append('-')\n",
    "            aly.append(y[j-1])\n",
    "            j -= 1\n",
    "    print(D[len(x), len(y)])\n",
    "    print(''.join(reversed(alx)))\n",
    "    print(''.join(reversed(aly)))\n"
   ]
  },
  {
   "cell_type": "code",
   "execution_count": null,
   "metadata": {},
   "outputs": [],
   "source": [
    "globalAlignment('ACGT', 'ACGGT')"
   ]
  },
  {
   "cell_type": "raw",
   "metadata": {},
   "source": []
  }
 ],
 "metadata": {
  "kernelspec": {
   "display_name": "Python 3",
   "language": "python",
   "name": "python3"
  },
  "language_info": {
   "codemirror_mode": {
    "name": "ipython",
    "version": 3
   },
   "file_extension": ".py",
   "mimetype": "text/x-python",
   "name": "python",
   "nbconvert_exporter": "python",
   "pygments_lexer": "ipython3",
   "version": "3.7.3"
  }
 },
 "nbformat": 4,
 "nbformat_minor": 4
}
